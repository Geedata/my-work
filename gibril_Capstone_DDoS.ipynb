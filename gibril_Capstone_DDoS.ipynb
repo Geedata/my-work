{
 "cells": [
  {
   "cell_type": "markdown",
   "id": "0d428f5a-bc8d-486f-94df-1eada5edaaab",
   "metadata": {},
   "source": [
    "# Capstone - Cyberattack Data Science"
   ]
  },
  {
   "cell_type": "markdown",
   "id": "ccade375-c93a-454d-a2a3-670a4e31d914",
   "metadata": {},
   "source": [
    "### This notebook explores a synthetic yet realistic dataset of cyber security attacks, curated by Incribo [on Kaggle](https://www.kaggle.com/datasets/teamincribo/cyber-security-attacks) which simulates 40,000 records across 25 diverse metrics—including IP addresses, protocols, packet types, malware indicators, anomaly scores, and attack signatures.\n",
    "\n",
    "## Objective\n",
    "The goal of this project is to build a predictive model capable of identifying Distributed Denial of Service (DDoS) attacks from network traffic data. Using a labeled dataset with three attack types (DDoS, Malware, Intrusion).\n",
    "This project blends exploratory data analysis (EDA), feature engineering, and machine learning to uncover insights that could inform real-world intrusion detection systems (IDS) and cybersecurity strategies."
   ]
  },
  {
   "cell_type": "code",
   "execution_count": 1,
   "id": "40ab3125-e20e-4f86-a3f2-b0e17630dda0",
   "metadata": {},
   "outputs": [],
   "source": [
    "# import necessary libraries\n",
    "import pandas as pd        # Data manipulation\n",
    "import numpy as np         # Numerical operations\n",
    "import matplotlib.pyplot as plt   # Basic plotting\n",
    "import seaborn as sns             # Statistical plots\n",
    "from sklearn.linear_model import LogisticRegression\n",
    "from sklearn.model_selection import train_test_split\n",
    "\n",
    "%matplotlib inline"
   ]
  },
  {
   "cell_type": "code",
   "execution_count": 2,
   "id": "b5bdb171-e3db-4e9f-9661-72961c4a6b9f",
   "metadata": {},
   "outputs": [],
   "source": [
    "#read file into environment\n",
    "df = pd.read_csv(\"cybersecurity_attacks.csv\")"
   ]
  },
  {
   "cell_type": "code",
   "execution_count": 3,
   "id": "10008457-3a69-48f0-b78e-80e29b39479c",
   "metadata": {},
   "outputs": [
    {
     "data": {
      "text/plain": [
       "(40000, 25)"
      ]
     },
     "execution_count": 3,
     "metadata": {},
     "output_type": "execute_result"
    }
   ],
   "source": [
    "#look at the shape-Row and Columns\n",
    "df.shape"
   ]
  },
  {
   "cell_type": "code",
   "execution_count": null,
   "id": "eeb2be8c-1530-4893-8e66-b281ab4aea39",
   "metadata": {},
   "outputs": [],
   "source": [
    "# Information about the Dataset\n",
    "df.info()"
   ]
  },
  {
   "cell_type": "code",
   "execution_count": null,
   "id": "203c9501-3287-4ec2-a3c5-ee191a5b2a7f",
   "metadata": {},
   "outputs": [],
   "source": [
    "df.head(3).T"
   ]
  },
  {
   "cell_type": "code",
   "execution_count": null,
   "id": "076395cd-4539-4c74-8891-941d418edecf",
   "metadata": {},
   "outputs": [],
   "source": [
    "#Understand data distribution\n",
    "df.describe()"
   ]
  },
  {
   "cell_type": "code",
   "execution_count": null,
   "id": "eced60e1-503c-4427-9740-fb5bafffc729",
   "metadata": {},
   "outputs": [],
   "source": [
    "# Timestamp Parsing\n",
    "df['Timestamp'] = pd.to_datetime(df['Timestamp'])\n",
    "df['Hour'] = df['Timestamp'].dt.hour\n",
    "df['Day'] = df['Timestamp'].dt.dayofweek\n"
   ]
  },
  {
   "cell_type": "code",
   "execution_count": null,
   "id": "0ecc0422-b327-4cf6-beb3-979a1e2914e1",
   "metadata": {},
   "outputs": [],
   "source": [
    "# Check for Missing Values\n",
    "df.isnull().sum().sort_values(ascending=False)"
   ]
  },
  {
   "cell_type": "code",
   "execution_count": null,
   "id": "79711682-d599-47ce-b29a-d8244fdebd89",
   "metadata": {},
   "outputs": [],
   "source": [
    "#Fill in mission value per column\n",
    "df['Malware Indicators'] = df['Malware Indicators'].fillna('Ioc Detected')"
   ]
  },
  {
   "cell_type": "code",
   "execution_count": null,
   "id": "5ba2fba4-d602-458c-9067-138f51155b7f",
   "metadata": {},
   "outputs": [],
   "source": [
    "#Fill in mission value per column\n",
    "df['Alerts/Warnings'] = df['Alerts/Warnings'].fillna('Alert Triggered')"
   ]
  },
  {
   "cell_type": "code",
   "execution_count": null,
   "id": "9941ae02-cdd9-46f3-b522-78410b4b5d85",
   "metadata": {},
   "outputs": [],
   "source": [
    "#Fill in mission value per column\n",
    "df['Firewall Logs'] = df['Firewall Logs'].fillna('Log Data')"
   ]
  },
  {
   "cell_type": "code",
   "execution_count": null,
   "id": "30406519-b565-40b5-9a20-cd1048b96be2",
   "metadata": {},
   "outputs": [],
   "source": [
    "#check null values for Proxy Information\n",
    "df['Proxy Information'].isnull().sum()"
   ]
  },
  {
   "cell_type": "code",
   "execution_count": null,
   "id": "d56ee7a9-f3bd-4e34-b1e5-aa9599d22f22",
   "metadata": {},
   "outputs": [],
   "source": [
    "#Fill in mission value per column\n",
    "df['IDS/IPS Alerts'] = df['IDS/IPS Alerts'].fillna('Alert Data')"
   ]
  },
  {
   "cell_type": "code",
   "execution_count": null,
   "id": "c6944863-1fc2-4c4a-b27d-3c813e6fe165",
   "metadata": {},
   "outputs": [],
   "source": [
    "# Check for Missing Values\n",
    "df.isnull().sum().sort_values(ascending=False)"
   ]
  },
  {
   "cell_type": "code",
   "execution_count": null,
   "id": "c5838fc4-d27f-4ff7-8a0b-6bdd5ce3c210",
   "metadata": {},
   "outputs": [],
   "source": [
    "#Look at unique Attack Type\n",
    "df['Attack Type'].nunique()"
   ]
  },
  {
   "cell_type": "code",
   "execution_count": null,
   "id": "2d7d33bf-a852-4afd-abe4-f93008d9e8af",
   "metadata": {},
   "outputs": [],
   "source": [
    "#check numerical features\n",
    "numeric_columns = df.select_dtypes(include='number').columns\n",
    "numeric_columns"
   ]
  },
  {
   "cell_type": "code",
   "execution_count": null,
   "id": "8d1ab7c5-58fc-4559-a8a8-6a095a93c5c0",
   "metadata": {},
   "outputs": [],
   "source": [
    "# check for outliers\n",
    "sns.boxplot(x='Severity Level', y='Packet Length', data=df)\n",
    "plt.show()"
   ]
  },
  {
   "cell_type": "code",
   "execution_count": null,
   "id": "86bfcb94-0dbe-43db-8e57-3621f0ba9ce9",
   "metadata": {},
   "outputs": [],
   "source": [
    "# Alerts & Attacks mapping\n",
    "pd.crosstab(df['Attack Type'], df['Alerts/Warnings'])"
   ]
  },
  {
   "cell_type": "code",
   "execution_count": null,
   "id": "4c7b01c6-a605-487e-a877-4aa0a9d0e0ec",
   "metadata": {},
   "outputs": [],
   "source": [
    "# check for correlation \n",
    "\n",
    "# Select numerical features only\n",
    "numerical_features = [\n",
    "    'Source Port', 'Destination Port',\n",
    "    'Protocol', 'Packet Length',\n",
    "    'Anomaly Scores', 'Severity Level',\n",
    "    'Hour', 'Day'\n",
    "]\n",
    "\n",
    "\n",
    "# Create a subset of the DataFrame\n",
    "pairplot_df = df[numerical_features + ['Attack Type']].copy()\n",
    "\n",
    "# downsample because dataset is large\n",
    "pairplot_df = pairplot_df.sample(n=1000, random_state=42)\n",
    "\n",
    "# Plot\n",
    "sns.pairplot(pairplot_df, hue='Attack Type', palette='Set1', diag_kind='kde')\n",
    "plt.suptitle('Pair Plot of Numerical Features Colored by Attack Type', y=1.02)\n",
    "plt.show()"
   ]
  },
  {
   "cell_type": "code",
   "execution_count": null,
   "id": "dd1b6182-383c-4d48-be7a-8b140c593ac6",
   "metadata": {},
   "outputs": [],
   "source": [
    "# Check for correlation\n",
    "\n",
    "# Create a subset of the DataFrame\n",
    "corr_df = df.select_dtypes(include='number')\n",
    "\n",
    "# Compute correlation matrix\n",
    "corr_matrix = corr_df.corr()\n",
    "\n",
    "# Plot heatmap\n",
    "plt.figure(figsize=(10, 8))\n",
    "sns.heatmap(corr_matrix, annot=True, cmap='coolwarm', fmt=\".2f\", linewidths=0.5)\n",
    "plt.title('Correlation Heatmap of Numerical Features')\n",
    "plt.show()"
   ]
  },
  {
   "cell_type": "code",
   "execution_count": null,
   "id": "258669d1-4ba1-4741-9605-7918bb38264b",
   "metadata": {},
   "outputs": [],
   "source": [
    "# check average DDOS attacks at certain time\n",
    "df.groupby('Attack Type')[['Packet Length', 'Hour', 'Day']].mean()"
   ]
  },
  {
   "cell_type": "code",
   "execution_count": null,
   "id": "749a2788-9593-4a24-b887-cb25a4ca28a2",
   "metadata": {},
   "outputs": [],
   "source": [
    "df['Attack Type'].values"
   ]
  },
  {
   "cell_type": "code",
   "execution_count": null,
   "id": "894dbc75-7fa5-47c5-8e89-19105d5cd581",
   "metadata": {},
   "outputs": [],
   "source": [
    "# Standardize text format\n",
    "df['Attack Type'] = df['Attack Type'].str.strip().str.lower()\n",
    "\n",
    "#One-hot encode the three attack types\n",
    "attack_dummies = pd.get_dummies(df['Attack Type'], prefix='is')\n",
    "\n",
    "#Drop any existing one-hot columns before adding new ones\n",
    "df.drop(columns=[col for col in attack_dummies.columns if col in df.columns], inplace=True)\n",
    "\n",
    "#Concatenate the new columns to the original DataFrame\n",
    "df = pd.concat([df, attack_dummies], axis=1)\n",
    "df.head()"
   ]
  },
  {
   "cell_type": "code",
   "execution_count": null,
   "id": "0e299696-07ec-4966-b981-e0f14d5db9bc",
   "metadata": {},
   "outputs": [],
   "source": [
    "#drop column not needed\n",
    "df.drop(columns=[\n",
    "    'is_intrusion',\n",
    "    'is_malware',\n",
    "], inplace=True)"
   ]
  },
  {
   "cell_type": "code",
   "execution_count": null,
   "id": "2b4b37f9-38c0-4d13-bc07-90381d5a8470",
   "metadata": {},
   "outputs": [],
   "source": [
    "df.head()"
   ]
  },
  {
   "cell_type": "code",
   "execution_count": null,
   "id": "87685d50-8fc3-4f78-b4c4-1bbdbf49dc84",
   "metadata": {},
   "outputs": [],
   "source": [
    "df.drop(columns=['Attack Type'], inplace=True)"
   ]
  },
  {
   "cell_type": "code",
   "execution_count": null,
   "id": "ba592373-e4f8-447e-81e3-62e6f5822848",
   "metadata": {},
   "outputs": [],
   "source": [
    "#Select Independent features\n",
    "numerical_features = [\n",
    "    'Source Port', 'Destination Port',\n",
    "    'Packet Length', 'Anomaly Scores',\n",
    "    'Hour', 'Day'\n",
    "]"
   ]
  },
  {
   "cell_type": "code",
   "execution_count": null,
   "id": "9b638a68-aff8-4963-94e7-ae298913c080",
   "metadata": {},
   "outputs": [],
   "source": [
    "categorical_features = [\n",
    "    'Protocol', 'Packet Type', 'Traffic Type',\n",
    "    'Malware Indicators', 'Alerts/Warnings',\n",
    "    'Severity Level', 'Firewall Logs', 'IDS/IPS Alerts'\n",
    "]"
   ]
  },
  {
   "cell_type": "markdown",
   "id": "14a378ee-174a-4cbf-b934-bc25554ba08d",
   "metadata": {},
   "source": [
    "## Objective\n",
    "The goal of this project was to build a predictive model capable of identifying Distributed Denial of Service (DDoS) attacks from network traffic data. Using a labeled dataset with three attack types (DDoS, Malware, Intrusion), we engineered a binary target variable (is_ddos) and trained a logistic regression classifier to distinguish DDoS traffic from other forms of malicious activity.\n",
    "\n",
    "Model Overview\n",
    "Model Type: Logistic Regression\n",
    "\n",
    "Target Variable: is_ddos (1 = DDoS attack, 0 = other)\n",
    "\n",
    "Features Used: A combination of numerical (e.g., packet length, anomaly scores, port numbers) and categorical (e.g., protocol type, severity level, IDS/IPS alerts) indicators relevant to DDoS behavior\n",
    "\n",
    "Class Imbalance Handling: Applied class_weight='balanced' to address the underrepresentation of DDoS samples"
   ]
  },
  {
   "cell_type": "code",
   "execution_count": null,
   "id": "9dbef95b-a4f4-4706-b4b2-4bf6bbd7d684",
   "metadata": {},
   "outputs": [],
   "source": [
    "# Select Independent adn dependent features- Set X/y\n",
    "X = df[numerical_features + categorical_features].copy()\n",
    "\n",
    "# One-hot encode categorical features\n",
    "X = pd.get_dummies(X, columns=categorical_features, drop_first=True)\n",
    "\n",
    "# Step 3: Define target\n",
    "y = df['is_ddos'].astype(int)"
   ]
  },
  {
   "cell_type": "code",
   "execution_count": null,
   "id": "1142fc2d-2f15-426b-957a-f8ef85df8e9a",
   "metadata": {},
   "outputs": [],
   "source": [
    "# Split the data\n",
    "X_train, X_test, y_train, y_test = train_test_split(\n",
    "    X, y, test_size=0.2, random_state=42, stratify=y)\n",
    "\n",
    "# Instantiate the model\n",
    "model = LogisticRegression(class_weight='balanced', max_iter=10000)"
   ]
  },
  {
   "cell_type": "code",
   "execution_count": null,
   "id": "c9307c02-4c36-44d6-b670-ef8f552d9965",
   "metadata": {},
   "outputs": [],
   "source": [
    "#fit model\n",
    "model.fit(X_train, y_train)"
   ]
  },
  {
   "cell_type": "code",
   "execution_count": null,
   "id": "bda66a98-5404-48f6-8433-253f19845179",
   "metadata": {},
   "outputs": [],
   "source": [
    "#predic model\n",
    "y_pred = model.predict(X_test)"
   ]
  },
  {
   "cell_type": "code",
   "execution_count": null,
   "id": "3ff34e13-eb3f-48e4-ae05-0a81ac7da183",
   "metadata": {},
   "outputs": [],
   "source": [
    "#get necessary predictions\n",
    "from sklearn.metrics import accuracy_score, precision_score, recall_score, f1_score, confusion_matrix\n",
    "\n",
    "print(\"Accuracy:\", accuracy_score(y_test, y_pred))\n",
    "print(\"Precision:\", precision_score(y_test, y_pred))\n",
    "print(\"Recall:\", recall_score(y_test, y_pred))\n",
    "print(\"F1 Score:\", f1_score(y_test, y_pred))\n",
    "print(\"Confusion Matrix:\\n\", confusion_matrix(y_test, y_pred))"
   ]
  },
  {
   "cell_type": "markdown",
   "id": "6100f48b-148f-4e68-81a7-b881b246e293",
   "metadata": {},
   "source": [
    "#This produce a confusion matrix of : \n",
    "True Negatives: 2621  \n",
    "False Positives: 2693  \n",
    "False Negatives: 1306  \n",
    "True Positives: 1380 "
   ]
  },
  {
   "cell_type": "code",
   "execution_count": null,
   "id": "11b9943d-5d07-4916-b38b-5b5e60c0a7d2",
   "metadata": {},
   "outputs": [],
   "source": [
    "#Compare to null\n",
    "# Null model prediction: always predict 0\n",
    "y_null_pred = [0] * len(y_test)\n",
    "\n",
    "from sklearn.metrics import accuracy_score, precision_score, recall_score, f1_score\n",
    "\n",
    "print(\"Null Accuracy:\", accuracy_score(y_test, y_null_pred))\n",
    "print(\"Null Precision:\", precision_score(y_test, y_null_pred, zero_division=0))\n",
    "print(\"Null Recall:\", recall_score(y_test, y_null_pred, zero_division=0))\n",
    "print(\"Null F1 Score:\", f1_score(y_test, y_null_pred, zero_division=0))"
   ]
  },
  {
   "cell_type": "markdown",
   "id": "452d6ae4-3762-4f72-b422-3fb2a04bafd9",
   "metadata": {},
   "source": [
    "## Conclusion\n",
    "The logistic regression model demonstrates meaningful predictive capability for DDoS detection, especially after addressing class imbalance. While precision remains moderate, the model’s ability to identify over half of true DDoS cases marks a strong foundation for further refinement. Future improvements may include feature scaling, advanced classifiers (e.g., Random Forest, XGBoost), and deeper feature engineering to boost precision without sacrificing recall."
   ]
  },
  {
   "cell_type": "code",
   "execution_count": null,
   "id": "b9392824-ccb6-4b6c-87d2-c15d260d15e1",
   "metadata": {},
   "outputs": [],
   "source": []
  }
 ],
 "metadata": {
  "kernelspec": {
   "display_name": "Python [conda env:base] *",
   "language": "python",
   "name": "conda-base-py"
  },
  "language_info": {
   "codemirror_mode": {
    "name": "ipython",
    "version": 3
   },
   "file_extension": ".py",
   "mimetype": "text/x-python",
   "name": "python",
   "nbconvert_exporter": "python",
   "pygments_lexer": "ipython3",
   "version": "3.13.5"
  }
 },
 "nbformat": 4,
 "nbformat_minor": 5
}
